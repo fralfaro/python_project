{
 "cells": [
  {
   "cell_type": "code",
   "execution_count": 1,
   "id": "ef3765b0-7db5-4bed-a1ae-8937a979c473",
   "metadata": {},
   "outputs": [],
   "source": [
    "# librerias\n",
    "from loguru import logger\n",
    "import pandas as pd\n",
    "\n",
    "import matplotlib.pyplot as plt\n",
    "import seaborn as sns\n",
    "\n",
    "import warnings\n",
    "warnings.filterwarnings(\"ignore\")\n",
    "pd.set_option('display.max_columns', 500)\n",
    "pd.set_option('display.max_rows', 500)\n",
    "pd.set_option('display.float_format', lambda x: '%.3f' % x)"
   ]
  },
  {
   "cell_type": "markdown",
   "id": "6c1a42a7-3079-4609-91e5-02a50fd41bde",
   "metadata": {},
   "source": [
    "## Lectura de datos"
   ]
  },
  {
   "cell_type": "code",
   "execution_count": 2,
   "id": "d474cb5b",
   "metadata": {},
   "outputs": [
    {
     "name": "stderr",
     "output_type": "stream",
     "text": [
      "\u001b[32m2024-04-02 22:32:09.878\u001b[0m | \u001b[1mINFO    \u001b[0m | \u001b[36m__main__\u001b[0m:\u001b[36m<module>\u001b[0m:\u001b[36m1\u001b[0m - \u001b[1mLeer Datos\u001b[0m\n"
     ]
    }
   ],
   "source": [
    "logger.info(\"Leer Datos\")\n",
    "\n",
    "# paths\n",
    "path_raw = \"../../data/raw/\"\n",
    "path_procesed = \"../../data/procesed/\"\n",
    "path_final = \"../../data/final/\""
   ]
  },
  {
   "cell_type": "code",
   "execution_count": 3,
   "id": "f2ed832b-ac00-46e4-a9e3-2bff221b9e6c",
   "metadata": {},
   "outputs": [],
   "source": [
    "# leer datos\n",
    "train = pd.read_csv(path_raw + \"train.csv\")\n",
    "test = pd.read_csv(path_raw + \"test.csv\")"
   ]
  },
  {
   "cell_type": "code",
   "execution_count": 4,
   "id": "1b4638b8",
   "metadata": {},
   "outputs": [],
   "source": [
    "# Obtener nombres de columnas según tipos de datos\n",
    "variable_objetivo = 'Survived'\n",
    "\n",
    "columnas_flotantes = [x for x in list(train.select_dtypes(include=['float64']).columns) if x!=variable_objetivo]\n",
    "columnas_enteras = [x for x in list(train.select_dtypes(include=['int32', 'int64']).columns) if x!=variable_objetivo] \n",
    "columnas_objetos =  [x for x in list(train.select_dtypes(include=['object']).columns) if x!=variable_objetivo] "
   ]
  },
  {
   "cell_type": "markdown",
   "id": "c2818055-b3bd-4d83-8646-d96c97c4edf5",
   "metadata": {},
   "source": [
    "## Feature Engineering\n",
    "\n",
    "\n",
    "Esta etapa ofrece numerosas oportunidades para un análisis más profundo, especialmente al comparar con otras columnas. Sin embargo, para nuestros propósitos prácticos, seguiremos este enfoque:\n",
    "\n",
    "* Eliminaremos las columnas 'Name' y 'Ticket', ya que inicialmente no contribuyen significativamente al modelo.\n",
    "* Para la variable 'Age', rellenaremos los valores faltantes con la media de edades.\n",
    "* Abordaremos la columna 'Cabin' al reemplazar los valores faltantes con el dato más frecuente, optimizando así la integridad devariabler\n",
    "* Modificaremos el tipo de las variables 'Pclass', 'SibSp'y 'Parch'.iable."
   ]
  },
  {
   "cell_type": "code",
   "execution_count": 5,
   "id": "e64ae61d-f811-4da7-8a43-5b73eb8a5a7d",
   "metadata": {},
   "outputs": [
    {
     "name": "stderr",
     "output_type": "stream",
     "text": [
      "\u001b[32m2024-04-02 22:32:09.925\u001b[0m | \u001b[1mINFO    \u001b[0m | \u001b[36m__main__\u001b[0m:\u001b[36m<module>\u001b[0m:\u001b[36m1\u001b[0m - \u001b[1meliminar variables: 'Name' y 'Ticket'\u001b[0m\n"
     ]
    }
   ],
   "source": [
    "logger.info(\"eliminar variables: 'Name' y 'Ticket'\")\n",
    "\n",
    "cols_delete = ['Name', 'Ticket']\n",
    "\n",
    "train = train.drop(cols_delete,axis=1)\n",
    "test = test.drop(cols_delete,axis=1)"
   ]
  },
  {
   "cell_type": "code",
   "execution_count": 6,
   "id": "362f535a-955a-4452-badf-d15599811ba1",
   "metadata": {},
   "outputs": [
    {
     "name": "stderr",
     "output_type": "stream",
     "text": [
      "\u001b[32m2024-04-02 22:32:09.941\u001b[0m | \u001b[1mINFO    \u001b[0m | \u001b[36m__main__\u001b[0m:\u001b[36m<module>\u001b[0m:\u001b[36m1\u001b[0m - \u001b[1mRellenar 'Age' con el promedio\u001b[0m\n"
     ]
    }
   ],
   "source": [
    "logger.info(\"Rellenar 'Age' con el promedio\")\n",
    "age_mean = round(train['Age'].mean())\n",
    "\n",
    "train['Age'] = train['Age'].fillna(age_mean)\n",
    "test['Age']  = test['Age'].fillna(age_mean)"
   ]
  },
  {
   "cell_type": "code",
   "execution_count": 7,
   "id": "dccf5490-30e8-413c-999e-6573048d1401",
   "metadata": {},
   "outputs": [
    {
     "name": "stderr",
     "output_type": "stream",
     "text": [
      "\u001b[32m2024-04-02 22:32:09.956\u001b[0m | \u001b[1mINFO    \u001b[0m | \u001b[36m__main__\u001b[0m:\u001b[36m<module>\u001b[0m:\u001b[36m1\u001b[0m - \u001b[1mModificar y rellenar valores nulos 'Cabin'\u001b[0m\n"
     ]
    }
   ],
   "source": [
    "logger.info(\"Modificar y rellenar valores nulos 'Cabin'\")\n",
    "train['Cabin'] = train['Cabin'].fillna('N').str[0]\n",
    "test['Cabin'] = test['Cabin'].fillna('N').str[0]"
   ]
  },
  {
   "cell_type": "code",
   "execution_count": 8,
   "id": "753fcd72-4ecc-432a-9bd1-ae82f636674e",
   "metadata": {},
   "outputs": [
    {
     "name": "stderr",
     "output_type": "stream",
     "text": [
      "\u001b[32m2024-04-02 22:32:09.972\u001b[0m | \u001b[1mINFO    \u001b[0m | \u001b[36m__main__\u001b[0m:\u001b[36m<module>\u001b[0m:\u001b[36m1\u001b[0m - \u001b[1mCambiar tipo de datos: 'Pclass', 'SibSp'y 'Parch'\u001b[0m\n"
     ]
    }
   ],
   "source": [
    "logger.info(\"Cambiar tipo de datos: 'Pclass', 'SibSp'y 'Parch'\")\n",
    "\n",
    "columns_to_convert = ['Pclass', 'SibSp','Parch']\n",
    "train[columns_to_convert] = train[columns_to_convert].astype(str)\n",
    "test[columns_to_convert] = test[columns_to_convert].astype(str)"
   ]
  },
  {
   "cell_type": "code",
   "execution_count": 9,
   "id": "4c7877ee",
   "metadata": {},
   "outputs": [
    {
     "name": "stderr",
     "output_type": "stream",
     "text": [
      "\u001b[32m2024-04-02 22:32:09.987\u001b[0m | \u001b[1mINFO    \u001b[0m | \u001b[36m__main__\u001b[0m:\u001b[36m<module>\u001b[0m:\u001b[36m1\u001b[0m - \u001b[1mGuardar Resultados\u001b[0m\n"
     ]
    }
   ],
   "source": [
    "logger.info(\"Guardar Resultados\")\n",
    "\n",
    "train.to_csv(path_procesed+'train.csv',sep=',',index=False)\n",
    "test.to_csv(path_procesed+'test.csv',sep=',',index=False)"
   ]
  }
 ],
 "metadata": {
  "kernelspec": {
   "display_name": "Python 3 (ipykernel)",
   "language": "python",
   "name": "python3"
  },
  "language_info": {
   "codemirror_mode": {
    "name": "ipython",
    "version": 3
   },
   "file_extension": ".py",
   "mimetype": "text/x-python",
   "name": "python",
   "nbconvert_exporter": "python",
   "pygments_lexer": "ipython3",
   "version": "3.10.10"
  },
  "nbTranslate": {
   "displayLangs": [
    "*"
   ],
   "hotkey": "alt-t",
   "langInMainMenu": true,
   "sourceLang": "en",
   "targetLang": "fr",
   "useGoogleTranslate": true
  }
 },
 "nbformat": 4,
 "nbformat_minor": 5
}
